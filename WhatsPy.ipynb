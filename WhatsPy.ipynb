{
 "cells": [
  {
   "cell_type": "code",
   "execution_count": null,
   "id": "d2d97dc3",
   "metadata": {},
   "outputs": [],
   "source": []
  },
  {
   "cell_type": "code",
   "execution_count": 2,
   "id": "37e70bb7",
   "metadata": {},
   "outputs": [
    {
     "name": "stderr",
     "output_type": "stream",
     "text": [
      "<ipython-input-2-f40e80d8239b>:10: DeprecationWarning: executable_path has been deprecated, please pass in a Service object\n",
      "  navegador = webdriver.Chrome('chromedriver.exe')\n"
     ]
    },
    {
     "name": "stdout",
     "output_type": "stream",
     "text": [
      "Mensagem para aaaa enviada!\n",
      "Ocorreu um erro! Mensagem para masas não enviada!\n",
      "Mensagem para nenem enviada!\n"
     ]
    }
   ],
   "source": [
    "import pandas as pd\n",
    "from selenium import webdriver\n",
    "from selenium.webdriver.common.keys import Keys\n",
    "from selenium.webdriver.common.by import By\n",
    "import time\n",
    "import urllib\n",
    "\n",
    "contatos_df = pd.read_excel('Enviar.xlsx')\n",
    "\n",
    "navegador = webdriver.Chrome('chromedriver.exe')\n",
    "navegador.get('https://web.whatsapp.com/')\n",
    "\n",
    "while len(navegador.find_elements(by = By.ID, value = 'side')) < 1:\n",
    "    time.sleep(1)\n",
    "\n",
    "for i, mensagem in enumerate(contatos_df['Mensagem']):\n",
    "    try:\n",
    "        pessoa = contatos_df.loc[i, 'Pessoa']\n",
    "        numero = contatos_df.loc[i, 'Número']\n",
    "        texto = urllib.parse.quote(f'Oi {pessoa}! {mensagem}')\n",
    "        link = f'https://web.whatsapp.com/send?phone={numero}&text={texto}'\n",
    "        navegador.get(link)\n",
    "        while len(navegador.find_elements(by = By.ID, value = 'side')) < 1:\n",
    "            time.sleep(1)\n",
    "        navegador.implicitly_wait(10)\n",
    "        navegador.find_element(By.XPATH,'//*[@id=\"main\"]/footer/div[1]/div/span[2]/div/div[2]/div[1]/div/div[2]').send_keys(Keys.ENTER)\n",
    "        time.sleep(10)\n",
    "        print(f'Mensagem para {pessoa} enviada!')\n",
    "    except:\n",
    "        print(f'Ocorreu um erro! Mensagem para {pessoa} não enviada!')"
   ]
  },
  {
   "cell_type": "code",
   "execution_count": null,
   "id": "205d0e41",
   "metadata": {},
   "outputs": [],
   "source": []
  },
  {
   "cell_type": "code",
   "execution_count": null,
   "id": "d8aa0352",
   "metadata": {},
   "outputs": [],
   "source": []
  },
  {
   "cell_type": "code",
   "execution_count": null,
   "id": "c9972341",
   "metadata": {},
   "outputs": [],
   "source": []
  },
  {
   "cell_type": "code",
   "execution_count": null,
   "id": "78908f1d",
   "metadata": {},
   "outputs": [],
   "source": []
  }
 ],
 "metadata": {
  "kernelspec": {
   "display_name": "Python 3",
   "language": "python",
   "name": "python3"
  },
  "language_info": {
   "codemirror_mode": {
    "name": "ipython",
    "version": 3
   },
   "file_extension": ".py",
   "mimetype": "text/x-python",
   "name": "python",
   "nbconvert_exporter": "python",
   "pygments_lexer": "ipython3",
   "version": "3.8.8"
  }
 },
 "nbformat": 4,
 "nbformat_minor": 5
}
